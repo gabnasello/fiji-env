{
 "cells": [
  {
   "cell_type": "code",
   "execution_count": 1,
   "id": "11cd151b-ce43-4a56-99fc-65df12d68bf1",
   "metadata": {},
   "outputs": [],
   "source": [
    "import imagej\n",
    "import numpy as np\n",
    "from skimage import data"
   ]
  },
  {
   "cell_type": "code",
   "execution_count": null,
   "id": "45ce2de9-fb03-4df5-b0f3-e3a7ec8d22bb",
   "metadata": {},
   "outputs": [],
   "source": [
    "# Initialize ImageJ from a local installation\n",
    "ij = imagej.init('/Fiji.app', mode='interactive')\n",
    "\n",
    "ij.ui().showUI() # if you want to display the GUI immediately\n",
    "\n",
    "# Verify the version of ImageJ\n",
    "print(ij.getVersion())"
   ]
  },
  {
   "cell_type": "code",
   "execution_count": 3,
   "id": "dbaba420-4502-4068-9709-f05e2fc7c0c4",
   "metadata": {},
   "outputs": [],
   "source": [
    "# Use an example image from skimage\n",
    "image = data.coins()\n",
    "\n",
    "# Convert the 2D Python image to an ImageJ image\n",
    "# ij_image = ij.py.to_imagej(image)\n",
    "imp = ij.py.to_imageplus(image)\n",
    "imp.setTitle(\"Test\")\n",
    "\n",
    "# Display the image in ImageJ\n",
    "ij.ui().show(imp)"
   ]
  },
  {
   "cell_type": "code",
   "execution_count": 4,
   "id": "0b445ab0-94d3-4847-90a4-1479e76dfa1c",
   "metadata": {},
   "outputs": [],
   "source": [
    "# Run a simple command in ImageJ, for example, a Gaussian blur\n",
    "ij.IJ.run(imp, 'Gaussian Blur...', \"sigma=2\")"
   ]
  }
 ],
 "metadata": {
  "kernelspec": {
   "display_name": "Python 3 (ipykernel)",
   "language": "python",
   "name": "python3"
  },
  "language_info": {
   "codemirror_mode": {
    "name": "ipython",
    "version": 3
   },
   "file_extension": ".py",
   "mimetype": "text/x-python",
   "name": "python",
   "nbconvert_exporter": "python",
   "pygments_lexer": "ipython3",
   "version": "3.10.12"
  }
 },
 "nbformat": 4,
 "nbformat_minor": 5
}
